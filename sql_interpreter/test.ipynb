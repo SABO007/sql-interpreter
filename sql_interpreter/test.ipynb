{
 "cells": [
  {
   "cell_type": "code",
   "execution_count": 60,
   "metadata": {},
   "outputs": [],
   "source": [
    "from config.envs import OPENAI_API_TYPE, OPENAI_BASE_URL, OPENAI_API_KEY, TEMPERATURE, STOP, MAX_TOKENS, TOP_P, FREQUENCY_PENALTY, PRESENCE_PENALTY, N_RESP, TIMEOUT, DB_HOST, DB_PORT, DB_USER, DB_PASSWORD, DB_NAME\n",
    "import openai\n",
    "import psycopg2\n",
    "\n",
    "# Establish a connection to the PostgreSQL server\n",
    "conn = psycopg2.connect(host=DB_HOST, database=DB_NAME, user=DB_USER, password=DB_PASSWORD, port=DB_PORT)\n",
    "\n",
    "# setup openai\n",
    "if OPENAI_API_TYPE == 'azure':\n",
    "    openai.api_base = OPENAI_BASE_URL\n",
    "    openai.api_key = OPENAI_API_KEY\n",
    "    openai.api_type = OPENAI_API_TYPE\n",
    "    openai.api_version = \"2023-07-01-preview\"\n",
    "else:\n",
    "    openai.api_key = OPENAI_API_KEY"
   ]
  },
  {
   "cell_type": "code",
   "execution_count": 61,
   "metadata": {},
   "outputs": [],
   "source": [
    "system_prompt_gen = open('config/system_prompt.txt', 'r').read()\n",
    "input_prompt=input()"
   ]
  },
  {
   "cell_type": "code",
   "execution_count": 62,
   "metadata": {},
   "outputs": [],
   "source": [
    "def ExecuteSQL(sql) -> str:\n",
    "        \"\"\"Function to execute SQL query\n",
    "\n",
    "        Args:\n",
    "            sql (str): sql query to execute\n",
    "\n",
    "        Returns:\n",
    "            str: output of sql query\n",
    "        \"\"\"\n",
    "        conn = psycopg2.connect(host=DB_HOST, database=DB_NAME, user=DB_USER, password=DB_PASSWORD, port=DB_PORT)\n",
    "\n",
    "        try:\n",
    "            cur = conn.cursor()\n",
    "            # Execute a SQL query\n",
    "            cur.execute(sql)\n",
    "\n",
    "            # Fetch the results\n",
    "            results = cur.fetchall()\n",
    "\n",
    "            # Close the cursor and connection\n",
    "            cur.close()\n",
    "            if not results:\n",
    "                return \"PostgresSQL Query executed Successfully\"\n",
    "            else:\n",
    "                \n",
    "                return results\n",
    "\n",
    "        except Exception as e:\n",
    "            return f\"There is some error in SQL query: {str(e)}\"\n",
    "    "
   ]
  },
  {
   "cell_type": "code",
   "execution_count": 63,
   "metadata": {},
   "outputs": [],
   "source": [
    "Table_Info=ExecuteSQL(\"SELECT table_name, column_name, data_type FROM information_schema.columns WHERE table_schema = 'public';\")"
   ]
  },
  {
   "cell_type": "code",
   "execution_count": 64,
   "metadata": {},
   "outputs": [],
   "source": [
    "system_prompt_gen = system_prompt_gen.replace('<table_info>', f\"{Table_Info}\")"
   ]
  },
  {
   "cell_type": "code",
   "execution_count": 65,
   "metadata": {},
   "outputs": [],
   "source": [
    "response = openai.ChatCompletion.create(\n",
    "                engine='DIR_ChatBot',\n",
    "                messages=[{\"role\":\"system\", \"content\":system_prompt_gen}, {\"role\":\"user\", \"content\":input_prompt}],\n",
    "                temperature=TEMPERATURE,\n",
    "                max_tokens=MAX_TOKENS,\n",
    "                top_p=TOP_P,\n",
    "                frequency_penalty=FREQUENCY_PENALTY,\n",
    "                presence_penalty=PRESENCE_PENALTY,\n",
    "                stop=STOP,\n",
    "                timeout=TIMEOUT,\n",
    "                n=N_RESP\n",
    "            )\n",
    "            \n",
    "output_response = response['choices'][0]['message']"
   ]
  },
  {
   "cell_type": "code",
   "execution_count": 66,
   "metadata": {},
   "outputs": [
    {
     "data": {
      "text/plain": [
       "<OpenAIObject at 0x1d8b2992810> JSON: {\n",
       "  \"role\": \"assistant\",\n",
       "  \"content\": \"I'm sorry, I don't understand what you mean by \\\"j\\\". Can you please provide more context or information about what you are looking for?\"\n",
       "}"
      ]
     },
     "execution_count": 66,
     "metadata": {},
     "output_type": "execute_result"
    }
   ],
   "source": [
    "output_response"
   ]
  },
  {
   "cell_type": "code",
   "execution_count": 67,
   "metadata": {},
   "outputs": [],
   "source": [
    "from tabulate import tabulate\n",
    "\n",
    "def psql(code: str) -> str:\n",
    "    \"\"\"\n",
    "    Function to execute PostgreSQL code.\n",
    "\n",
    "    Args:\n",
    "        code (str): PostgreSQL code to execute\n",
    "\n",
    "    Returns:\n",
    "        output (str): Output of PostgreSQL query\n",
    "\n",
    "    Stream:\n",
    "        code\n",
    "\n",
    "    Prefix:\n",
    "        code: ```sql\n",
    "\n",
    "    Postfix:\n",
    "        code: ```\n",
    "\n",
    "    \"\"\"\n",
    "\n",
    "\n",
    "    conn = psycopg2.connect(host=DB_HOST, database=DB_NAME, user=DB_USER, password=DB_PASSWORD, port=DB_PORT)\n",
    "\n",
    "    try:\n",
    "\n",
    "        cur = conn.cursor()\n",
    "\n",
    "        cur.execute(code)\n",
    "\n",
    "        output = cur.fetchall()\n",
    "\n",
    "        cur.close()\n",
    "\n",
    " \n",
    "\n",
    "        if not output:\n",
    "\n",
    "            return {\"text\":\"PostgreSQL Query executed Successfully\"}\n",
    "\n",
    "        else:\n",
    "            headers = [desc[0] for desc in cur.description]\n",
    "\n",
    "            rows = [headers] + [list(row) for row in output]\n",
    "\n",
    "            table = tabulate(rows, headers=\"firstrow\", tablefmt=\"github\")  \n",
    "\n",
    "            return f\"```\\n{table}\\n```\"\n",
    "\n",
    "       \n",
    "\n",
    "    except Exception as e:\n",
    "\n",
    "        return {\"text\":f\"There is some error in SQL query: {str(e)}\"}"
   ]
  },
  {
   "cell_type": "code",
   "execution_count": 68,
   "metadata": {},
   "outputs": [
    {
     "data": {
      "text/plain": [
       "{'text': 'There is some error in SQL query: syntax error at or near \"I\"\\nLINE 1: I\\'m sorry, I don\\'t understand what you mean by \"j\". Can you ...\\n        ^\\n'}"
      ]
     },
     "execution_count": 68,
     "metadata": {},
     "output_type": "execute_result"
    }
   ],
   "source": [
    "psql(output_response['content'])"
   ]
  },
  {
   "cell_type": "code",
   "execution_count": null,
   "metadata": {},
   "outputs": [],
   "source": []
  }
 ],
 "metadata": {
  "kernelspec": {
   "display_name": "Python 3",
   "language": "python",
   "name": "python3"
  },
  "language_info": {
   "codemirror_mode": {
    "name": "ipython",
    "version": 3
   },
   "file_extension": ".py",
   "mimetype": "text/x-python",
   "name": "python",
   "nbconvert_exporter": "python",
   "pygments_lexer": "ipython3",
   "version": "3.11.5"
  }
 },
 "nbformat": 4,
 "nbformat_minor": 2
}
