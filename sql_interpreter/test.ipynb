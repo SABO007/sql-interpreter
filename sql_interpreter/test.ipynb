{
 "cells": [
  {
   "cell_type": "code",
   "execution_count": 8,
   "metadata": {},
   "outputs": [
    {
     "name": "stdout",
     "output_type": "stream",
     "text": [
      "Error: function execute_python_script(text) does not exist\n",
      "LINE 1: SELECT execute_python_script('\n",
      "               ^\n",
      "HINT:  No function matches the given name and argument types. You might need to add explicit type casts.\n",
      "\n"
     ]
    }
   ],
   "source": [
    "CREATE EXTENSION plpythonu;\n",
    "\n",
    "\n",
    "CREATE OR REPLACE FUNCTION execute_python_script(python_script text)\n",
    "RETURNS text\n",
    "LANGUAGE plpythonu\n",
    "AS $$\n",
    "# Execute the Python script\n",
    "exec_result = plpy.execute(python_script, 1)\n",
    "\n",
    "return exec_result[0][\"?column?\"]\n",
    "$$;\n"
   ]
  },
  {
   "cell_type": "code",
   "execution_count": 5,
   "metadata": {},
   "outputs": [
    {
     "name": "stdout",
     "output_type": "stream",
     "text": [
      "Result from PostgreSQL: (1, 'John', 'Doe', 'HR')\n"
     ]
    }
   ],
   "source": [
    "import psycopg2\n",
    "\n",
    "# Replace these with your database connection details\n",
    "db_host = 'localhost'\n",
    "db_name = 'TestDataBase'\n",
    "db_user = 'postgres'\n",
    "db_password = '2357'\n",
    "\n",
    "python_script = \"\"\"\n",
    "print(\"Hello from Python script!\")\n",
    "\"\"\"\n",
    "\n",
    "try:\n",
    "    # Connect to the database\n",
    "    conn = psycopg2.connect(\n",
    "        host=db_host,\n",
    "        database=db_name,\n",
    "        user=db_user,\n",
    "        password=db_password\n",
    "    )\n",
    "\n",
    "    # Create a cursor\n",
    "    cursor = conn.cursor()\n",
    "\n",
    "    # Define the function call\n",
    "    function_call = \"SELECT * from Employees\"\n",
    "# execute_python_script('{python_script}')\"\n",
    "\n",
    "    # Execute the function\n",
    "    cursor.execute(function_call)\n",
    "\n",
    "    # Fetch the result\n",
    "    result = cursor.fetchone()\n",
    "\n",
    "    # Print the result\n",
    "    print(\"Result from PostgreSQL:\", result)\n",
    "\n",
    "    # Close the cursor and the connection\n",
    "    cursor.close()\n",
    "    conn.close()\n",
    "\n",
    "except (Exception, psycopg2.Error) as error:\n",
    "    print(\"Error while connecting to PostgreSQL:\", error)\n"
   ]
  },
  {
   "cell_type": "code",
   "execution_count": null,
   "metadata": {},
   "outputs": [],
   "source": []
  }
 ],
 "metadata": {
  "kernelspec": {
   "display_name": "Python 3",
   "language": "python",
   "name": "python3"
  },
  "language_info": {
   "codemirror_mode": {
    "name": "ipython",
    "version": 3
   },
   "file_extension": ".py",
   "mimetype": "text/x-python",
   "name": "python",
   "nbconvert_exporter": "python",
   "pygments_lexer": "ipython3",
   "version": "3.11.4"
  },
  "orig_nbformat": 4
 },
 "nbformat": 4,
 "nbformat_minor": 2
}
