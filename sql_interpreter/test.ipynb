{
 "cells": [
  {
   "cell_type": "code",
   "execution_count": 10,
   "metadata": {},
   "outputs": [],
   "source": [
    "output_response={\n",
    "  \"role\": \"assistant\",\n",
    "  \"function_call\": {\n",
    "    \"name\": \"multi_Func\",\n",
    "    \"arguments\": \"{\\n  \\\"function_call\\\": {\\n    \\\"Creds_key\\\": \\\"postgres_credentials\\\",\\n    \\\"sql_key\\\": \\\"select * from table_name\\\",\\n    \\\"function_output\\\": \\\"\\\"\\n  },\\n  \\\"get_Events\\\": {}\\n}\"\n",
    "  }\n",
    "}"
   ]
  },
  {
   "cell_type": "code",
   "execution_count": 6,
   "metadata": {},
   "outputs": [],
   "source": [
    "import json"
   ]
  },
  {
   "cell_type": "code",
   "execution_count": 17,
   "metadata": {},
   "outputs": [
    {
     "name": "stdout",
     "output_type": "stream",
     "text": [
      "{\n",
      "  \"name\": \"multi_Func\",\n",
      "  \"arguments\": \"{\\n  \\\"function_call\\\": {\\n    \\\"Creds_key\\\": \\\"postgres_credentials\\\",\\n    \\\"sql_key\\\": \\\"select * from table_name\\\",\\n    \\\"function_output\\\": \\\"\\\"\\n  },\\n  \\\"get_Events\\\": {}\\n}\"\n",
      "}\n"
     ]
    }
   ],
   "source": [
    "function_call = output_response.get(\"function_call\")\n",
    "print(json.dumps(function_call, indent=2))"
   ]
  },
  {
   "cell_type": "code",
   "execution_count": 75,
   "metadata": {},
   "outputs": [
    {
     "data": {
      "text/plain": [
       "['function_call', 'get_Events']"
      ]
     },
     "execution_count": 75,
     "metadata": {},
     "output_type": "execute_result"
    }
   ],
   "source": [
    "import json\n",
    "\n",
    "# The provided JSON data\n",
    "output_response = {\n",
    "  \"role\": \"assistant\",\n",
    "  \"function_call\": {\n",
    "    \"name\": \"multi_Func\",\n",
    "    \"arguments\": \"{\\n  \\\"function_call\\\": {\\n    \\\"Creds_key\\\": \\\"postgres_credentials\\\",\\n    \\\"sql_key\\\": \\\"select * from table_name\\\",\\n    \\\"function_output\\\": \\\"\\\"\\n  },\\n  \\\"get_Events\\\": {}\\n}\"\n",
    "  }\n",
    "}\n",
    "\n",
    "function_name=json.loads(output_response[\"function_call\"][\"arguments\"])\n",
    "\n",
    "keys_list = list(function_name.keys())\n",
    "keys_list\n",
    "\n",
    "\n",
    "\n"
   ]
  },
  {
   "cell_type": "code",
   "execution_count": 76,
   "metadata": {},
   "outputs": [
    {
     "name": "stdout",
     "output_type": "stream",
     "text": [
      "function_call\n",
      "get_Events\n"
     ]
    }
   ],
   "source": [
    "arguments=json.loads(output_response[\"function_call\"][\"arguments\"])\n",
    "n=len(arguments)\n",
    "function_name=json.loads(output_response[\"function_call\"][\"arguments\"])\n",
    "\n",
    "for i in range(n):\n",
    "    function_name = keys_list[i]\n",
    "    print(function_name)"
   ]
  },
  {
   "cell_type": "code",
   "execution_count": null,
   "metadata": {},
   "outputs": [],
   "source": []
  }
 ],
 "metadata": {
  "kernelspec": {
   "display_name": "Python 3",
   "language": "python",
   "name": "python3"
  },
  "language_info": {
   "codemirror_mode": {
    "name": "ipython",
    "version": 3
   },
   "file_extension": ".py",
   "mimetype": "text/x-python",
   "name": "python",
   "nbconvert_exporter": "python",
   "pygments_lexer": "ipython3",
   "version": "3.11.5"
  }
 },
 "nbformat": 4,
 "nbformat_minor": 2
}
